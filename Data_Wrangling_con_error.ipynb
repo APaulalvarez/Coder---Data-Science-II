{
  "nbformat": 4,
  "nbformat_minor": 0,
  "metadata": {
    "colab": {
      "provenance": [],
      "authorship_tag": "ABX9TyPbfnsxKWMrLbS8q7786Jfs",
      "include_colab_link": true
    },
    "kernelspec": {
      "name": "python3",
      "display_name": "Python 3"
    },
    "language_info": {
      "name": "python"
    }
  },
  "cells": [
    {
      "cell_type": "markdown",
      "metadata": {
        "id": "view-in-github",
        "colab_type": "text"
      },
      "source": [
        "<a href=\"https://colab.research.google.com/github/APaulalvarez/Coder---Data-Science-II/blob/main/Data_Wrangling_con_error.ipynb\" target=\"_parent\"><img src=\"https://colab.research.google.com/assets/colab-badge.svg\" alt=\"Open In Colab\"/></a>"
      ]
    },
    {
      "cell_type": "markdown",
      "source": [
        "#Data Wrangling con error"
      ],
      "metadata": {
        "id": "zf-nvNgw02yS"
      }
    },
    {
      "cell_type": "code",
      "source": [
        "#Binarizo la variable target en 'Approved' (1) y 'Not approved' (0)\n",
        "df.GradeClass = df.GradeClass.replace({0:1, 1:1, 2:1, 3:1, 4:0}).astype(int)\n",
        "df.head()"
      ],
      "metadata": {
        "id": "B6-i5qeLE7Hl"
      },
      "execution_count": null,
      "outputs": []
    },
    {
      "cell_type": "code",
      "source": [
        "df['GradeClass'].value_counts()"
      ],
      "metadata": {
        "id": "HrgzexX6HFyB"
      },
      "execution_count": null,
      "outputs": []
    },
    {
      "cell_type": "markdown",
      "source": [
        "Vemos que ambas clases (aprobados y no aprobados) se encuentran balanceadas."
      ],
      "metadata": {
        "id": "EyaFw8raIeib"
      }
    },
    {
      "cell_type": "code",
      "source": [
        "# Encodeo de el resto de las variables\n",
        "OrdinalVar = ['ParentalEducation','ParentalSupport']\n",
        "CatVar = ['Ethnicity']\n",
        "\n",
        "#Estas no hace falta, ya están así.\n",
        "BinVar = ['Extracurricular','Sports','Music','Volunteering','Gender','Tutoring',]"
      ],
      "metadata": {
        "id": "OOO54_Y_ND08"
      },
      "execution_count": null,
      "outputs": []
    },
    {
      "cell_type": "code",
      "source": [
        "#Onehot Encoder para CatVar\n",
        "from sklearn.preprocessing import OneHotEncoder\n",
        "\n",
        "ethnicity_mapping = {\n",
        "    0: 'Caucasian',\n",
        "    1: 'African American',\n",
        "    2: 'Asian',\n",
        "    3: 'Other'\n",
        "}\n",
        "\n",
        "df['Ethnicity'] = df['Ethnicity'].map(ethnicity_mapping)\n",
        "\n",
        "encoder = OneHotEncoder(handle_unknown='ignore', sparse_output=False)\n",
        "encoded_data = encoder.fit_transform(df[CatVar])\n",
        "encoded_df = pd.DataFrame(encoded_data, columns=encoder.get_feature_names_out(CatVar))\n",
        "df = pd.concat([df, encoded_df], axis=1)\n",
        "df.drop('Ethnicity', axis=1, inplace=True)"
      ],
      "metadata": {
        "id": "uhwcok2eVHNE"
      },
      "execution_count": null,
      "outputs": []
    },
    {
      "cell_type": "code",
      "source": [
        "#Ordinal Encoder para OrdinalVar\n",
        "education_mapping = {\n",
        "    0: 'No',\n",
        "    1: 'High School',\n",
        "    2: 'Some College',\n",
        "    3: 'Bachelor\\'s',\n",
        "    4: 'Higher'\n",
        "}\n",
        "\n",
        "support_mapping = {\n",
        "    0: 'No',\n",
        "    1: 'Low',\n",
        "    2: 'Moderate',\n",
        "    3: 'High',\n",
        "    4: 'Very High'\n",
        "}\n",
        "\n",
        "df['ParentalEducation'] = df['ParentalEducation'].map(education_mapping)\n",
        "df['ParentalSupport'] = df['ParentalSupport'].map(support_mapping)"
      ],
      "metadata": {
        "id": "zoCg38Z6ZiNK"
      },
      "execution_count": null,
      "outputs": []
    },
    {
      "cell_type": "code",
      "source": [
        "from sklearn.preprocessing import OrdinalEncoder\n",
        "\n",
        "encoder = OrdinalEncoder(categories=[\n",
        "     ['No', 'High School', 'Some College', \"Bachelor's\", 'Higher'],\n",
        "     ['No', 'Low', 'Moderate', 'High', 'Very High']\n",
        "])\n",
        "\n",
        "df[['ParentalEducation','ParentalSupport']] = encoder.fit_transform(df[OrdinalVar])"
      ],
      "metadata": {
        "id": "I_MZ9jJecgNG"
      },
      "execution_count": null,
      "outputs": []
    },
    {
      "cell_type": "code",
      "source": [
        "# Verificar si hay valores faltantes en 'ParentalEducation'\n",
        "missing_values = df['ParentalEducation'].isnull().sum()\n",
        "print(f\"Valores faltantes en ParentalEducation: {missing_values}\")"
      ],
      "metadata": {
        "id": "sfG6TDVIl3lo"
      },
      "execution_count": null,
      "outputs": []
    }
  ]
}